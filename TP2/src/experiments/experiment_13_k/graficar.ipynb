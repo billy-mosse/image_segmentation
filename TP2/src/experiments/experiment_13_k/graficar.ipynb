{
 "cells": [
  {
   "cell_type": "code",
   "execution_count": 1,
   "metadata": {},
   "outputs": [
    {
     "data": {
      "text/html": [
       "<div>\n",
       "<style scoped>\n",
       "    .dataframe tbody tr th:only-of-type {\n",
       "        vertical-align: middle;\n",
       "    }\n",
       "\n",
       "    .dataframe tbody tr th {\n",
       "        vertical-align: top;\n",
       "    }\n",
       "\n",
       "    .dataframe thead th {\n",
       "        text-align: right;\n",
       "    }\n",
       "</style>\n",
       "<table border=\"1\" class=\"dataframe\">\n",
       "  <thead>\n",
       "    <tr style=\"text-align: right;\">\n",
       "      <th></th>\n",
       "      <th>use8neighors</th>\n",
       "      <th>structure</th>\n",
       "      <th>k</th>\n",
       "      <th>index</th>\n",
       "      <th>load_image</th>\n",
       "      <th>load_graph</th>\n",
       "      <th>process</th>\n",
       "      <th>whole</th>\n",
       "    </tr>\n",
       "  </thead>\n",
       "  <tbody>\n",
       "    <tr>\n",
       "      <th>0</th>\n",
       "      <td>0</td>\n",
       "      <td>0</td>\n",
       "      <td>10</td>\n",
       "      <td>1</td>\n",
       "      <td>61</td>\n",
       "      <td>0</td>\n",
       "      <td>1267</td>\n",
       "      <td>1329</td>\n",
       "    </tr>\n",
       "    <tr>\n",
       "      <th>1</th>\n",
       "      <td>0</td>\n",
       "      <td>1</td>\n",
       "      <td>10</td>\n",
       "      <td>1</td>\n",
       "      <td>1329</td>\n",
       "      <td>0</td>\n",
       "      <td>17</td>\n",
       "      <td>1346</td>\n",
       "    </tr>\n",
       "    <tr>\n",
       "      <th>2</th>\n",
       "      <td>0</td>\n",
       "      <td>2</td>\n",
       "      <td>10</td>\n",
       "      <td>1</td>\n",
       "      <td>1347</td>\n",
       "      <td>0</td>\n",
       "      <td>16</td>\n",
       "      <td>1363</td>\n",
       "    </tr>\n",
       "    <tr>\n",
       "      <th>3</th>\n",
       "      <td>0</td>\n",
       "      <td>0</td>\n",
       "      <td>10</td>\n",
       "      <td>2</td>\n",
       "      <td>1363</td>\n",
       "      <td>0</td>\n",
       "      <td>1233</td>\n",
       "      <td>2597</td>\n",
       "    </tr>\n",
       "    <tr>\n",
       "      <th>4</th>\n",
       "      <td>0</td>\n",
       "      <td>1</td>\n",
       "      <td>10</td>\n",
       "      <td>2</td>\n",
       "      <td>2597</td>\n",
       "      <td>0</td>\n",
       "      <td>24</td>\n",
       "      <td>2621</td>\n",
       "    </tr>\n",
       "  </tbody>\n",
       "</table>\n",
       "</div>"
      ],
      "text/plain": [
       "   use8neighors  structure   k  index  load_image  load_graph  process  whole\n",
       "0             0          0  10      1          61           0     1267   1329\n",
       "1             0          1  10      1        1329           0       17   1346\n",
       "2             0          2  10      1        1347           0       16   1363\n",
       "3             0          0  10      2        1363           0     1233   2597\n",
       "4             0          1  10      2        2597           0       24   2621"
      ]
     },
     "execution_count": 1,
     "metadata": {},
     "output_type": "execute_result"
    }
   ],
   "source": [
    "import pandas as pd \n",
    "# Read data from file 'filename.csv' \n",
    "# (in the same directory that your python process is based)\n",
    "# Control delimiters, rows, column names with read_csv (see later) \n",
    "data = pd.read_csv(\"table.csv\") \n",
    "# Preview the first 5 lines of the loaded data \n",
    "data.head()\n",
    "\n"
   ]
  },
  {
   "cell_type": "code",
   "execution_count": 2,
   "metadata": {},
   "outputs": [],
   "source": [
    "data_8neighbors = data[data[\"use8neighors\"] == 1]\n",
    "data_euclidean = data[data[\"use8neighors\"] == 0]\n",
    "data_structure0 = data[data[\"structure\"] == 0]\n",
    "data_structure1 = data[data[\"structure\"] == 1]\n",
    "data_structure2 = data[data[\"structure\"] == 2]"
   ]
  },
  {
   "cell_type": "code",
   "execution_count": 5,
   "metadata": {},
   "outputs": [
    {
     "data": {
      "text/plain": [
       "'print(type(structure2))\\nvec = []\\nfor i in range(0, len(structure2)):\\n    vec2 = structure2[i]\\n    vec1 = structure2[i]\\n    print(vec2/vec1)'"
      ]
     },
     "execution_count": 5,
     "metadata": {},
     "output_type": "execute_result"
    }
   ],
   "source": [
    "data_8neighbors_structure_2 = data_8neighbors[data_8neighbors[\"structure\"] == 2]\n",
    "data_euclidean_structure_2 = data_euclidean[data_euclidean[\"structure\"] == 2]\n",
    "\n",
    "#y = data_8neighbors_structure_2.groupby(['size', 'whole']).sum()\n",
    "#y_8neighbors_structure2 = data_8neighbors_structure_2.groupby(['size'])['whole'].agg('sum')/10\n",
    "#y_euclidean_structure2 = data_euclidean_structure_2.groupby(['size'])['whole'].agg('sum')/10\n",
    "structure0 = data_structure0.groupby([\"k\"])[\"process\"].agg(\"sum\")/10\n",
    "structure1 = data_structure1.groupby([\"k\"])[\"process\"].agg(\"sum\")/10\n",
    "structure2 = data_structure2.groupby([\"k\"])[\"process\"].agg(\"sum\")/10\n",
    "\"\"\"print(type(structure2))\n",
    "vec = []\n",
    "for i in range(0, len(structure2)):\n",
    "    vec2 = structure2[i]\n",
    "    vec1 = structure2[i]\n",
    "    print(vec2/vec1)\"\"\""
   ]
  },
  {
   "cell_type": "code",
   "execution_count": 10,
   "metadata": {},
   "outputs": [
    {
     "data": {
      "image/png": "[encoded data removed]",
      "text/plain": [
       "<Figure size 432x288 with 1 Axes>"
      ]
     },
     "metadata": {},
     "output_type": "display_data"
    },
    {
     "data": {
      "text/plain": [
       "<Figure size 432x288 with 0 Axes>"
      ]
     },
     "metadata": {},
     "output_type": "display_data"
    }
   ],
   "source": [
    "import matplotlib.pyplot as plt\n",
    "import pylab\n",
    "x = range(10,51)\n",
    "plt.plot(x, structure0, label = \"arreglo rep\")\n",
    "plt.plot(x, structure1, label = \"arbol rep\")\n",
    "plt.plot(x, structure2, label = \"arbol comp\")\n",
    "pylab.legend(loc='upper left')\n",
    "plt.xlabel('k')\n",
    "plt.ylabel('tiempo (ms)')\n",
    "plt.yscale('log')\n",
    "\n",
    "\n",
    "\n",
    "plt.show()\n",
    "plt.savefig(\"experiment1.png\")\n"
   ]
  },
  {
   "cell_type": "code",
   "execution_count": null,
   "metadata": {},
   "outputs": [],
   "source": []
  }
 ],
 "metadata": {
  "kernelspec": {
   "display_name": "Python 3",
   "language": "python",
   "name": "python3"
  },
  "language_info": {
   "codemirror_mode": {
    "name": "ipython",
    "version": 3
   },
   "file_extension": ".py",
   "mimetype": "text/x-python",
   "name": "python",
   "nbconvert_exporter": "python",
   "pygments_lexer": "ipython3",
   "version": "3.6.7"
  }
 },
 "nbformat": 4,
 "nbformat_minor": 2
}
